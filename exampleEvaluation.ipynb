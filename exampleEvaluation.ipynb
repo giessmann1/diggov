{
 "cells": [
  {
   "cell_type": "markdown",
   "metadata": {
    "ExecuteTime": {
     "end_time": "2023-09-05T05:55:54.874939700Z",
     "start_time": "2023-09-05T05:55:53.811940500Z"
    },
    "collapsed": true
   },
   "source": [
    "# Schritt 1: Installieren der erforderlichen Bibliotheken"
   ]
  },
  {
   "cell_type": "code",
   "execution_count": null,
   "metadata": {
    "ExecuteTime": {
     "end_time": "2023-09-05T06:56:11.384360700Z",
     "start_time": "2023-09-05T06:56:10.404335400Z"
    },
    "pycharm": {
     "is_executing": true
    }
   },
   "outputs": [],
   "source": [
    "!pip install ipywidgets matplotlib seaborn pandas"
   ]
  },
  {
   "cell_type": "markdown",
   "metadata": {},
   "source": [
    "# Schritt 2: Importieren der Bibliotheken"
   ]
  },
  {
   "cell_type": "code",
   "execution_count": 2,
   "metadata": {
    "ExecuteTime": {
     "end_time": "2023-09-05T06:56:11.431380200Z",
     "start_time": "2023-09-05T06:56:11.385360500Z"
    }
   },
   "outputs": [],
   "source": [
    "import pandas as pd\n",
    "import matplotlib.pyplot as plt\n",
    "%matplotlib inline\n",
    "import seaborn as sns\n",
    "import ipywidgets as widgets\n",
    "from ipywidgets import interact"
   ]
  },
  {
   "cell_type": "markdown",
   "metadata": {},
   "source": [
    "# Schritt 3: Laden der Umfragedaten\n",
    "Laden Sie Ihre Umfragedaten in ein Pandas DataFrame. Hier wird Beispiel-Daten erstellt:"
   ]
  },
  {
   "cell_type": "code",
   "execution_count": 3,
   "metadata": {
    "ExecuteTime": {
     "end_time": "2023-09-05T06:56:11.441383500Z",
     "start_time": "2023-09-05T06:56:11.401382200Z"
    }
   },
   "outputs": [],
   "source": [
    "data = {\n",
    "    'Response_ID': range(1, 11),\n",
    "    'Frage_1': [True, False, True, False, True, True, False, True, True, False],\n",
    "    'Frage_2': [True, True, True, False, True, False, False, True, True, False],\n",
    "    # Fügen Sie hier weitere Umfragen hinzu\n",
    "}\n",
    "\n",
    "df = pd.DataFrame(data)"
   ]
  },
  {
   "cell_type": "markdown",
   "metadata": {},
   "source": [
    "# Schritt 4: Erstellen der Visualisierungsfunktion\n",
    "Erstellen Sie eine Funktion, die Filter und andere Parameter akzeptiert und Visualisierungen erstellt.\n",
    "In diesem Beispiel erstellen wir ein Balkendiagramm, um die Anzahl der \"Wahr\" und \"Falsch\" Antworten für eine ausgewählte Umfragefrage darzustellen:"
   ]
  },
  {
   "cell_type": "code",
   "execution_count": 4,
   "metadata": {
    "ExecuteTime": {
     "end_time": "2023-09-05T06:56:11.441383500Z",
     "start_time": "2023-09-05T06:56:11.419383100Z"
    }
   },
   "outputs": [],
   "source": [
    "def aktualisiere_visualisierung(fragnr):\n",
    "    sns.set(style=\"whitegrid\")\n",
    "    plt.figure(figsize=(10, 5))\n",
    "    sns.countplot(data=df, x=f'Frage_{fragnr}', palette=\"Set2\")\n",
    "    plt.xlabel(f'Frage {fragnr}')\n",
    "    plt.ylabel('Anzahl')\n",
    "    plt.title(f'Anzahl von \"Wahr\" und \"Falsch\" für Frage {fragnr}')\n",
    "    plt.show()"
   ]
  },
  {
   "cell_type": "markdown",
   "metadata": {},
   "source": [
    "# Schritt 5: Erstellen der interaktiven Widgets\n",
    "Erstellen Sie interaktive Widgets, um Benutzern die Auswahl der Umfragefrage, die sie visualisieren möchten, und die Anwendung von Filtern zu ermöglichen:"
   ]
  },
  {
   "cell_type": "code",
   "execution_count": 5,
   "metadata": {
    "ExecuteTime": {
     "end_time": "2023-09-05T06:56:11.448381200Z",
     "start_time": "2023-09-05T06:56:11.433382900Z"
    }
   },
   "outputs": [],
   "source": [
    "fragen_auswahl = widgets.Dropdown(\n",
    "    options=[(f'Frage {i}', i) for i in range(1, len(df.columns))],\n",
    "    description='Wähle Frage:',\n",
    "    style={'description_width': 'initial', 'width': '200px'}\n",
    ")"
   ]
  },
  {
   "cell_type": "markdown",
   "metadata": {},
   "source": [
    "# Fügen Sie weitere Widgets für Filter hinzu, wenn erforderlich"
   ]
  },
  {
   "cell_type": "markdown",
   "metadata": {},
   "source": [
    "# Schritt 6: Anzeigen von Widgets und Initialisierung der Visualisierung\n",
    "Zeigen Sie die Widgets und die erste Visualisierung an:"
   ]
  },
  {
   "cell_type": "code",
   "execution_count": 6,
   "metadata": {
    "ExecuteTime": {
     "end_time": "2023-09-05T06:56:11.527381800Z",
     "start_time": "2023-09-05T06:56:11.449381700Z"
    }
   },
   "outputs": [
    {
     "data": {
      "application/vnd.jupyter.widget-view+json": {
       "model_id": "03bd2efad7c7430294d9fe04e949566b",
       "version_major": 2,
       "version_minor": 0
      },
      "text/plain": [
       "interactive(children=(Dropdown(description='Wähle Frage:', options=(('Frage 1', 1), ('Frage 2', 2)), style=Des…"
      ]
     },
     "metadata": {},
     "output_type": "display_data"
    },
    {
     "data": {
      "text/plain": [
       "<function __main__.aktualisiere_visualisierung(fragnr)>"
      ]
     },
     "execution_count": 6,
     "metadata": {},
     "output_type": "execute_result"
    }
   ],
   "source": [
    "interact(aktualisiere_visualisierung, fragnr=fragen_auswahl)"
   ]
  },
  {
   "cell_type": "markdown",
   "metadata": {},
   "source": [
    "# Schritt 2: Importieren der Bibliotheken"
   ]
  },
  {
   "cell_type": "code",
   "execution_count": 7,
   "metadata": {
    "ExecuteTime": {
     "end_time": "2023-09-05T06:56:11.558381200Z",
     "start_time": "2023-09-05T06:56:11.529381600Z"
    }
   },
   "outputs": [],
   "source": [
    "import pandas as pd\n",
    "import numpy as np\n",
    "import matplotlib.pyplot as plt\n",
    "%matplotlib inline\n",
    "import seaborn as sns\n",
    "import ipywidgets as widgets\n",
    "from ipywidgets import interact, interactive, fixed, interact_manual"
   ]
  },
  {
   "cell_type": "markdown",
   "metadata": {},
   "source": [
    "# Schritt 3: Laden von Beispiel-Daten (oder verwenden Sie Ihre eigenen Daten)"
   ]
  },
  {
   "cell_type": "code",
   "execution_count": 8,
   "metadata": {
    "ExecuteTime": {
     "end_time": "2023-09-05T06:56:11.570382400Z",
     "start_time": "2023-09-05T06:56:11.544382200Z"
    }
   },
   "outputs": [],
   "source": [
    "np.random.seed(42)\n",
    "data = {\n",
    "    'A': np.random.rand(100),\n",
    "    'B': np.random.rand(100),\n",
    "    'Category': np.random.choice(['X', 'Y', 'Z'], 100)\n",
    "}\n",
    "df = pd.DataFrame(data)"
   ]
  },
  {
   "cell_type": "markdown",
   "metadata": {},
   "source": [
    "# Schritt 4: Erstellen von interaktiven Diagrammen\n",
    "# Diagramm 1: Streudiagramm"
   ]
  },
  {
   "cell_type": "code",
   "execution_count": 9,
   "metadata": {
    "ExecuteTime": {
     "end_time": "2023-09-05T06:56:11.719382Z",
     "start_time": "2023-09-05T06:56:11.562383700Z"
    }
   },
   "outputs": [
    {
     "data": {
      "application/vnd.jupyter.widget-view+json": {
       "model_id": "09c9518dd01b4b1b8f5da9f68f1a2f31",
       "version_major": 2,
       "version_minor": 0
      },
      "text/plain": [
       "interactive(children=(Dropdown(description='x', options=('A', 'B', 'Category'), value='A'), Dropdown(descripti…"
      ]
     },
     "metadata": {},
     "output_type": "display_data"
    }
   ],
   "source": [
    "@interact\n",
    "def scatter_plot(x=list(df.columns), y=list(df.columns), hue=list(df.columns)):\n",
    "    plt.figure(figsize=(10, 6))\n",
    "    sns.scatterplot(data=df, x=x, y=y, hue=hue)\n",
    "    plt.title(\"Interaktives Streudiagramm\")\n",
    "    plt.show()"
   ]
  },
  {
   "cell_type": "markdown",
   "metadata": {},
   "source": [
    "# Diagramm 2: Balkendiagramm"
   ]
  },
  {
   "cell_type": "code",
   "execution_count": 10,
   "metadata": {
    "ExecuteTime": {
     "start_time": "2023-09-05T06:56:11.722382600Z"
    },
    "is_executing": true
   },
   "outputs": [
    {
     "data": {
      "application/vnd.jupyter.widget-view+json": {
       "model_id": "42e4bf843e714f0299ea8298a7dc44cf",
       "version_major": 2,
       "version_minor": 0
      },
      "text/plain": [
       "interactive(children=(Dropdown(description='x', options=('A', 'B', 'Category'), value='A'), Dropdown(descripti…"
      ]
     },
     "metadata": {},
     "output_type": "display_data"
    }
   ],
   "source": [
    "@interact\n",
    "def bar_plot(x=list(df.columns), y=list(df.columns), hue=list(df.columns)):\n",
    "    plt.figure(figsize=(10, 6))\n",
    "    sns.barplot(data=df, x=x, y=y, hue=hue)\n",
    "    plt.title(\"Interaktives Balkendiagramm\")\n",
    "    plt.show()"
   ]
  },
  {
   "cell_type": "markdown",
   "metadata": {},
   "source": [
    "# Diagramm 3: Histogramm"
   ]
  },
  {
   "cell_type": "code",
   "execution_count": 11,
   "metadata": {
    "is_executing": true
   },
   "outputs": [
    {
     "data": {
      "application/vnd.jupyter.widget-view+json": {
       "model_id": "c9d3226e8cf5412290e48a38fb9f4e43",
       "version_major": 2,
       "version_minor": 0
      },
      "text/plain": [
       "interactive(children=(Dropdown(description='column', options=('A', 'B', 'Category'), value='A'), IntSlider(val…"
      ]
     },
     "metadata": {},
     "output_type": "display_data"
    }
   ],
   "source": [
    "@interact\n",
    "def histogram(column=list(df.columns), bins=(1, 20, 1)):\n",
    "    plt.figure(figsize=(10, 6))\n",
    "    sns.histplot(df[column], bins=bins, kde=True)\n",
    "    plt.title(\"Interaktives Histogramm\")\n",
    "    plt.xlabel(column)\n",
    "    plt.show()"
   ]
  },
  {
   "cell_type": "markdown",
   "metadata": {},
   "source": [
    "# Diagramm 4: Boxplot"
   ]
  },
  {
   "cell_type": "code",
   "execution_count": 12,
   "metadata": {
    "is_executing": true
   },
   "outputs": [
    {
     "data": {
      "application/vnd.jupyter.widget-view+json": {
       "model_id": "fee3dc6e02b2432294ea3a97ee48630f",
       "version_major": 2,
       "version_minor": 0
      },
      "text/plain": [
       "interactive(children=(Dropdown(description='x', options=('A', 'B', 'Category'), value='A'), Dropdown(descripti…"
      ]
     },
     "metadata": {},
     "output_type": "display_data"
    }
   ],
   "source": [
    "@interact\n",
    "def box_plot(x=list(df.columns), y=list(df.columns), hue=list(df.columns)):\n",
    "    plt.figure(figsize=(10, 6))\n",
    "    sns.boxplot(data=df, x=x, y=y, hue=hue)\n",
    "    plt.title(\"Interaktiver Boxplot\")\n",
    "    plt.show()"
   ]
  },
  {
   "cell_type": "markdown",
   "metadata": {},
   "source": [
    "# Diagramm 5: Zeitreihe mit Rauschen"
   ]
  },
  {
   "cell_type": "code",
   "execution_count": 13,
   "metadata": {
    "is_executing": true
   },
   "outputs": [
    {
     "data": {
      "application/vnd.jupyter.widget-view+json": {
       "model_id": "f58137e056a64dcb98f8c8a09abcc83e",
       "version_major": 2,
       "version_minor": 0
      },
      "text/plain": [
       "interactive(children=(IntSlider(value=5, description='freq', max=10, min=1), FloatSlider(value=0.0, descriptio…"
      ]
     },
     "metadata": {},
     "output_type": "display_data"
    }
   ],
   "source": [
    "@interact\n",
    "def time_series_with_noise(freq=(1, 10, 1), noise=(0, 1, 0.01)):\n",
    "    t = np.arange(0.0, 10.0, 0.1)\n",
    "    s = np.sin(freq * t) + noise * np.random.randn(len(t))\n",
    "\n",
    "    plt.figure(figsize=(10, 6))\n",
    "    plt.plot(t, s)\n",
    "    plt.title(\"Interaktive Zeitreihe mit Rauschen\")\n",
    "    plt.xlabel(\"Zeit\")\n",
    "    plt.ylabel(\"Amplitude\")\n",
    "    plt.show()"
   ]
  }
 ],
 "metadata": {
  "kernelspec": {
   "display_name": "Python 3 (ipykernel)",
   "language": "python",
   "name": "python3"
  },
  "language_info": {
   "codemirror_mode": {
    "name": "ipython",
    "version": 3
   },
   "file_extension": ".py",
   "mimetype": "text/x-python",
   "name": "python",
   "nbconvert_exporter": "python",
   "pygments_lexer": "ipython3",
   "version": "3.10.12"
  }
 },
 "nbformat": 4,
 "nbformat_minor": 1
}
